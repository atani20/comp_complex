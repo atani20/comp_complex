{
 "cells": [
  {
   "cell_type": "code",
   "execution_count": 1,
   "metadata": {},
   "outputs": [],
   "source": [
    "#подключаем библиотеки\n",
    "import numpy as np\n",
    "from sympy import *\n",
    "# from sympy.solvers import solve\n",
    "# from sympy.plotting.intervalmath import interval\n",
    "from prettytable import PrettyTable\n",
    "from mpmath import findroot"
   ]
  },
  {
   "cell_type": "code",
   "execution_count": 2,
   "metadata": {},
   "outputs": [],
   "source": [
    "#заполняем матрицы\n",
    "a = Symbol(\"a\", real=True)\n",
    "M = []\n",
    "for i in range(2, 10):\n",
    "    row = [a for _ in range(i)]\n",
    "    m = Matrix([row for _ in range(i)])\n",
    "    for j in range(i):\n",
    "        m[j, j] = 1\n",
    "    M.append(m)"
   ]
  },
  {
   "cell_type": "code",
   "execution_count": 3,
   "metadata": {},
   "outputs": [
    {
     "name": "stdout",
     "output_type": "stream",
     "text": [
      "n =2 1 - a**2\n",
      "n =3 2*a**3 - 3*a**2 + 1\n",
      "n =4 -3*a**4 + 8*a**3 - 6*a**2 + 1\n",
      "n =5 4*a**5 - 15*a**4 + 20*a**3 - 10*a**2 + 1\n",
      "n =6 -5*a**6 + 24*a**5 - 45*a**4 + 40*a**3 - 15*a**2 + 1\n",
      "n =7 6*a**7 - 35*a**6 + 84*a**5 - 105*a**4 + 70*a**3 - 21*a**2 + 1\n",
      "n =8 -7*a**8 + 48*a**7 - 140*a**6 + 224*a**5 - 210*a**4 + 112*a**3 - 28*a**2 + 1\n",
      "n =9 8*a**9 - 63*a**8 + 216*a**7 - 420*a**6 + 504*a**5 - 378*a**4 + 168*a**3 - 36*a**2 + 1\n"
     ]
    }
   ],
   "source": [
    "#считаем их определители\n",
    "for i, m in enumerate(M):\n",
    "    d = m.det()\n",
    "    print('n =' + str (i + 2), d)"
   ]
  },
  {
   "cell_type": "code",
   "execution_count": null,
   "metadata": {},
   "outputs": [],
   "source": [
    "e = Symbol(\"eps\", real=True)\n",
    "left = [1-e**2,\n",
    "     1 -3*e**2,\n",
    "     -3*e**4-6*e**2+1,\n",
    "     -15*e**4-10*e**2+1,\n",
    "     -5*e**6-45*e**4-15*e**2+1,\n",
    "     -35*e**6-105*e**4-21*e**2+1,\n",
    "     -7*e**8-140*e**6-210*e**4-28*e**2+1,\n",
    "     -63*e**8-420*e**6-378*e**4-36*e**2+1]\n",
    "right = [1,     \n",
    "     1+e**3,    \n",
    "     8*e**3+1,         \n",
    "     4*e**5+20*e**3+1, \n",
    "     24*e**5+40*e**3+1, \n",
    "     6*e**7+84*e**5+70*e**3+1, \n",
    "     48*e**7+224*e**5+112*e**3+1,\n",
    "    8*e**9+216*e**7+504*e**5+168*e**3+1]"
   ]
  },
  {
   "cell_type": "code",
   "execution_count": 4,
   "metadata": {},
   "outputs": [],
   "source": [
    "x = PrettyTable()\n",
    "x.field_names = [\"N\", \"1 / (N - 1)\", \"eps*\", \"delta\"]"
   ]
  },
  {
   "cell_type": "code",
   "execution_count": 5,
   "metadata": {},
   "outputs": [
    {
     "name": "stdout",
     "output_type": "stream",
     "text": [
      "2 : [ 1 - eps**2 ;  1 ]\n",
      "3 : [ 1 - 3*eps**2 ;  eps**3 + 1 ]\n",
      "4 : [ -3*eps**4 - 6*eps**2 + 1 ;  8*eps**3 + 1 ]\n",
      "5 : [ -15*eps**4 - 10*eps**2 + 1 ;  4*eps**5 + 20*eps**3 + 1 ]\n",
      "6 : [ -5*eps**6 - 45*eps**4 - 15*eps**2 + 1 ;  24*eps**5 + 40*eps**3 + 1 ]\n",
      "7 : [ -35*eps**6 - 105*eps**4 - 21*eps**2 + 1 ;  6*eps**7 + 84*eps**5 + 70*eps**3 + 1 ]\n",
      "8 : [ -7*eps**8 - 140*eps**6 - 210*eps**4 - 28*eps**2 + 1 ;  48*eps**7 + 224*eps**5 + 112*eps**3 + 1 ]\n"
     ]
    }
   ],
   "source": [
    "estimate = []\n",
    "for i in range(7):\n",
    "    val1 = 1/(i + 1)\n",
    "    val2 = findroot(lambda x: left[i].evalf(subs={e:x}), 0.2)\n",
    "    v1 = float('{:.3f}'.format(val1))\n",
    "    v2 = float('{:.3f}'.format(round(val2, 4)))\n",
    "    v3 = float('{:.3f}'.format(round(val2-val1, 4)))\n",
    "    estimate.append(v3)\n",
    "    x.add_row([i + 2, v1, v2, v3])\n",
    "    print(i + 2, ': [', left[i], '; ', right[i], ']')"
   ]
  },
  {
   "cell_type": "code",
   "execution_count": 6,
   "metadata": {},
   "outputs": [
    {
     "name": "stdout",
     "output_type": "stream",
     "text": [
      "+---+-------------+-------+-------+\n",
      "| N | 1 / (N - 1) |  eps* | delta |\n",
      "+---+-------------+-------+-------+\n",
      "| 2 |     1.0     |  1.0  |  0.0  |\n",
      "| 3 |     0.5     | 0.577 | 0.077 |\n",
      "| 4 |    0.333    | 0.393 |  0.06 |\n",
      "| 5 |     0.25    | 0.297 | 0.047 |\n",
      "| 6 |     0.2     | 0.238 | 0.038 |\n",
      "| 7 |    0.167    | 0.199 | 0.033 |\n",
      "| 8 |    0.143    | 0.171 | 0.028 |\n",
      "+---+-------------+-------+-------+\n"
     ]
    }
   ],
   "source": [
    "print(x)"
   ]
  },
  {
   "cell_type": "code",
   "execution_count": 8,
   "metadata": {},
   "outputs": [
    {
     "data": {
      "text/plain": [
       "Text(0, 0.5, 'eps* - 1/(N-1)')"
      ]
     },
     "execution_count": 8,
     "metadata": {},
     "output_type": "execute_result"
    },
    {
     "data": {
      "image/png": "[encoded data removed]",
      "text/plain": [
       "<Figure size 432x288 with 1 Axes>"
      ]
     },
     "metadata": {
      "needs_background": "light"
     },
     "output_type": "display_data"
    }
   ],
   "source": [
    "import matplotlib.pyplot as plt\n",
    "%matplotlib inline\n",
    "import numpy as np\n",
    "\n",
    "\n",
    "x = [i for i in range(3, 9)]\n",
    "y = estimate[1:]\n",
    "plt.plot(x, y, '.-')\n",
    "plt.title('Delta(N)')\n",
    "\n",
    "plt.xlabel('N')\n",
    "plt.ylabel('eps* - 1/(N-1)')\n",
    "\n",
    "# plt.plot(x2, y2)"
   ]
  },
  {
   "cell_type": "code",
   "execution_count": null,
   "metadata": {},
   "outputs": [],
   "source": []
  }
 ],
 "metadata": {
  "kernelspec": {
   "display_name": "Python 3",
   "language": "python",
   "name": "python3"
  },
  "language_info": {
   "codemirror_mode": {
    "name": "ipython",
    "version": 3
   },
   "file_extension": ".py",
   "mimetype": "text/x-python",
   "name": "python",
   "nbconvert_exporter": "python",
   "pygments_lexer": "ipython3",
   "version": "3.7.6"
  }
 },
 "nbformat": 4,
 "nbformat_minor": 4
}
