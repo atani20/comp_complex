{
 "cells": [
  {
   "cell_type": "code",
   "execution_count": 28,
   "metadata": {},
   "outputs": [],
   "source": [
    "import numpy as np\n",
    "from scipy.optimize import linprog as lp\n",
    "from matplotlib import pyplot as plt\n",
    "from tolsolvty import tolsolvty\n",
    "%matplotlib inline"
   ]
  },
  {
   "cell_type": "code",
   "execution_count": 68,
   "metadata": {},
   "outputs": [
    {
     "name": "stdout",
     "output_type": "stream",
     "text": [
      "[ 1.  4. -1.] [2. 5. 1.]\n"
     ]
    }
   ],
   "source": [
    "A = np.array([[1, -1, 3],\n",
    "             [1, -1.1, 3],\n",
    "             [0, 4, 0]])\n",
    "mid_b = np.array([1.5, 4.5, 0])\n",
    "rad_b = np.array([0.5, 0.5, 1])\n",
    "\n",
    "\n",
    "inf_b = mid_b - rad_b\n",
    "sup_b = mid_b + rad_b\n",
    "print(inf_b, sup_b)"
   ]
  },
  {
   "cell_type": "code",
   "execution_count": 69,
   "metadata": {},
   "outputs": [
    {
     "name": "stdout",
     "output_type": "stream",
     "text": [
      " \n",
      " Допусковое множество решений интервальной линейной системы пусто \n",
      " \n",
      "tolmax =  [-0.9753095]\n",
      "argmax =  [[ 0.24814816]\n",
      " [-0.49382627]\n",
      " [ 0.74444448]]\n",
      "envs =  [[ 2.         -0.97530959]\n",
      " [ 1.         -0.9753079 ]\n",
      " [ 3.         -0.97530053]]\n",
      "ccode =  3\n"
     ]
    }
   ],
   "source": [
    "\n",
    "infb = np.array([[inf_b[0]], [inf_b[1]], [inf_b[2]]])\n",
    "supb = np.array([[sup_b[0]], [sup_b[1]], [sup_b[2]]])\n",
    "[tolmax, argmax, envs, ccode] = tolsolvty(A, A, infb, supb)\n",
    "print('tolmax = ', tolmax)\n",
    "print('argmax = ', argmax)\n",
    "print('envs = ', envs)\n",
    "print('ccode = ', ccode)"
   ]
  },
  {
   "cell_type": "code",
   "execution_count": 70,
   "metadata": {},
   "outputs": [],
   "source": [
    "n = 3\n",
    "c = np.hstack([np.zeros(3), np.ones(3)])\n",
    "neg_diag = -np.diag(rad_b)\n",
    "r = np.hstack([-mid_b, mid_b])\n",
    "A_big = np.block([[-A, neg_diag], [A, neg_diag]])"
   ]
  },
  {
   "cell_type": "code",
   "execution_count": 87,
   "metadata": {},
   "outputs": [],
   "source": []
  },
  {
   "cell_type": "code",
   "execution_count": 157,
   "metadata": {},
   "outputs": [],
   "source": [
    "def solve_bounded(x_bounds, name_method):\n",
    "    bounds = x_bounds + [(0, None)] * n\n",
    "\n",
    "    res_simplex = lp(c, A_big, r, bounds=bounds,\n",
    "                     method=name_method)\n",
    "\n",
    "    omega_sum_s = sum(res_simplex.x[n:])\n",
    "    omega_3 = res_simplex.x[-1]\n",
    "    \n",
    "    x_s = res_simplex.x[:-n]\n",
    "    return omega_sum_s, x_s, omega_3\n",
    "\n",
    "\n",
    "\n"
   ]
  },
  {
   "cell_type": "code",
   "execution_count": 153,
   "metadata": {},
   "outputs": [],
   "source": []
  },
  {
   "cell_type": "code",
   "execution_count": 145,
   "metadata": {},
   "outputs": [],
   "source": [
    "def l1_reg(A, mid_b, rad_b, w):\n",
    "    print(mid_b, rad_b, w)\n",
    "    for i in range(3):\n",
    "        if abs(w[i]) <= 0.00000001:\n",
    "            w[i] = 1\n",
    "    inf_b = mid_b-w*rad_b\n",
    "    sup_b = mid_b +w*rad_b\n",
    "    print(inf_b, sup_b)\n",
    "    infb = np.array([[inf_b[0]], [inf_b[1]], [inf_b[2]]])\n",
    "    supb = np.array([[sup_b[0]], [sup_b[1]], [sup_b[2]]])\n",
    "    [tolmax, argmax, envs, ccode] = tolsolvty(A, A, infb, supb)\n",
    "    print('tolmax = ', tolmax)\n",
    "    print('argmax = ', argmax)\n",
    "    print('envs = ', envs)\n",
    "    print('ccode = ', ccode)"
   ]
  },
  {
   "cell_type": "code",
   "execution_count": 165,
   "metadata": {},
   "outputs": [],
   "source": [
    "def get_solution(c, A_big, r, name_method):\n",
    "    bounds = [(None ,None), (None, None), (None, None)] +[(0, None)] * n \n",
    "    result = lp(c, A_big, r, bounds=bounds, method=name_method)\n",
    "    final_x = result.x[:-n]\n",
    "    final_w = result.x[n:]\n",
    "\n",
    "    print(name_method, \"results:\")\n",
    "    print(f\"X = {final_x}\")\n",
    "    print(f\"omegas = {final_w}\")\n",
    "    \n",
    "    return final_w\n",
    "\n"
   ]
  },
  {
   "cell_type": "code",
   "execution_count": 147,
   "metadata": {},
   "outputs": [
    {
     "data": {
      "image/png": "[encoded data removed]",
      "text/plain": [
       "<Figure size 432x288 with 1 Axes>"
      ]
     },
     "metadata": {
      "needs_background": "light"
     },
     "output_type": "display_data"
    }
   ],
   "source": [
    "line, = plt.plot(x2min, sum_w, label='sum_w')\n",
    "# \n",
    "# plt.legend(handles=[line], loc='upper right')\n",
    "\n",
    "plt.title('Зависимость sum_w от x_1_min')\n",
    "plt.xlabel('x_1_min')\n",
    "plt.ylabel('sum_w')\n",
    "plt.savefig('Зависимость sum_w от x_1_min.png')\n",
    "plt.show()\n",
    "plt.close()\n"
   ]
  },
  {
   "cell_type": "code",
   "execution_count": 148,
   "metadata": {},
   "outputs": [
    {
     "name": "stdout",
     "output_type": "stream",
     "text": [
      "simplex results:\n",
      "X = [0.  0.  1.5]\n",
      "omegas = [6. 0. 0.]\n",
      "simplex results:\n",
      "X = [0.1        0.         1.46666667]\n",
      "omegas = [6. 0. 0.]\n",
      "simplex results:\n",
      "X = [0.2        0.         1.43333333]\n",
      "omegas = [6. 0. 0.]\n",
      "simplex results:\n",
      "X = [0.3 0.  1.4]\n",
      "omegas = [6. 0. 0.]\n",
      "simplex results:\n",
      "X = [0.4        0.         1.36666667]\n",
      "omegas = [6. 0. 0.]\n",
      "simplex results:\n",
      "X = [0.5        0.         1.33333333]\n",
      "omegas = [6. 0. 0.]\n",
      "simplex results:\n",
      "X = [0.6 0.  1.3]\n",
      "omegas = [6. 0. 0.]\n",
      "simplex results:\n",
      "X = [0.7        0.         1.26666667]\n",
      "omegas = [6. 0. 0.]\n",
      "simplex results:\n",
      "X = [0.8        0.         1.23333333]\n",
      "omegas = [6. 0. 0.]\n",
      "simplex results:\n",
      "X = [0.9 0.  1.2]\n",
      "omegas = [6. 0. 0.]\n",
      "simplex results:\n",
      "X = [1.         0.         1.16666667]\n",
      "omegas = [6. 0. 0.]\n",
      "[0.0, 0.1, 0.2, 0.30000000000000004, 0.4, 0.5, 0.6000000000000001, 0.7000000000000001, 0.8, 0.9, 1.0] [6.0, 6.000000000000001, 6.0, 6.0, 5.999999999999999, 6.0, 6.0, 6.0, 6.0, 6.0, 6.0]\n"
     ]
    },
    {
     "data": {
      "text/plain": [
       "[<matplotlib.lines.Line2D at 0x1625633bcc8>]"
      ]
     },
     "execution_count": 148,
     "metadata": {},
     "output_type": "execute_result"
    },
    {
     "data": {
      "image/png": "[encoded data removed]",
      "text/plain": [
       "<Figure size 432x288 with 1 Axes>"
      ]
     },
     "metadata": {
      "needs_background": "light"
     },
     "output_type": "display_data"
    }
   ],
   "source": [
    "x2min = [0.1*i for i in range(11)]\n",
    "sum_w = []\n",
    "for i in range(11):\n",
    "    w = get_solution(x2min[i], c, A_big, r, 'simplex')\n",
    "    sum_w.append(sum(w))\n",
    "print(x2min, sum_w)\n",
    "plt.plot(x2min, sum_w)"
   ]
  },
  {
   "cell_type": "code",
   "execution_count": 161,
   "metadata": {},
   "outputs": [],
   "source": [
    "def get_dot_for_plot(name_method):\n",
    "    x_1 = [0.1*i for i in range(11)]\n",
    "    x_2 = []\n",
    "    x_3 = []\n",
    "    for lower in x_1:\n",
    "        bounds = [(lower, None), (0, None), (None, None)]\n",
    "        omega_sum_s, x_s, omega_3 = solve_bounded(bounds, name_method)\n",
    "        x_2.append(x_s[1])\n",
    "        x_3.append(x_s[2])\n",
    "        #w_3.append(omega_3)\n",
    "    return x_2, x_3\n",
    "def draw_plot(name_method, x_1, x_2, x_3):\n",
    "    line1, = plt.plot(x_1, x_3, label='$x_3$')\n",
    "    line2, = plt.plot(x_1, x_2, label='$x_2$')\n",
    "    plt.legend(handles=[line1, line2], loc='lower right')\n",
    "    plt.title(name_method)\n",
    "    plt.xlabel('$x_1$')\n",
    "    plt.savefig(name_method + '.png')\n",
    "    plt.show()\n",
    "    plt.close()"
   ]
  },
  {
   "cell_type": "code",
   "execution_count": 163,
   "metadata": {},
   "outputs": [
    {
     "name": "stdout",
     "output_type": "stream",
     "text": [
      "SIMPLEX METHOD\n",
      "[0.0, 0.1, 0.2, 0.30000000000000004, 0.4, 0.5, 0.6000000000000001, 0.7000000000000001, 0.8, 0.9, 1.0] [0.0, 0.0, 0.0, 0.0, 0.0, 0.0, 0.0, 0.0, 0.0, 0.0, 0.0] [1.5, 1.4666666666666666, 1.4333333333333333, 1.4, 1.3666666666666665, 1.3333333333333333, 1.3, 1.2666666666666666, 1.2333333333333334, 1.2, 1.1666666666666667]\n"
     ]
    },
    {
     "data": {
      "image/png": "[encoded data removed]",
      "text/plain": [
       "<Figure size 432x288 with 1 Axes>"
      ]
     },
     "metadata": {
      "needs_background": "light"
     },
     "output_type": "display_data"
    }
   ],
   "source": [
    "print(\"SIMPLEX METHOD\")\n",
    "# w = get_solution(c, A_big, r, 'simplex')\n",
    "# print(\"Сумма w\",sum(w))\n",
    "# print(\"Регулязация\")\n",
    "# l1_reg(A, mid_b, rad_b, w)\n",
    "x_2s, x_3s = get_dot_for_plot('simplex')\n",
    "x_1s = [0.1*i for i in range(11)]\n",
    "print(x_1s, x_2s, x_3s)\n",
    "draw_plot('simplex', x_1s, x_2s, x_3s)"
   ]
  },
  {
   "cell_type": "code",
   "execution_count": 167,
   "metadata": {},
   "outputs": [
    {
     "name": "stdout",
     "output_type": "stream",
     "text": [
      "INTERIOR-POINT\n",
      "interior-point results:\n",
      "X = [ 2.87640314e-01 -8.74633699e-12  8.84094793e-01]\n",
      "omegas = [2.87984939e+00 3.12015061e+00 1.74567176e-10]\n",
      "\n",
      "Регулязация\n",
      "[1.5 4.5 0. ] [0.5 0.5 1. ] [2.87984939e+00 3.12015061e+00 1.74567176e-10]\n",
      "[ 0.06007531  2.93992469 -1.        ] [2.93992469 6.06007531 1.        ]\n",
      " \n",
      " Допусковое множество решений интервальной линейной системы непусто \n",
      " \n",
      "tolmax =  [0.01234556]\n",
      "argmax =  [[ 0.26806669]\n",
      " [-0.24691213]\n",
      " [ 0.80420008]]\n",
      "envs =  [[1.         0.01234544]\n",
      " [2.         0.01234584]\n",
      " [3.         0.01234884]]\n",
      "ccode =  3\n"
     ]
    },
    {
     "data": {
      "image/png": "[encoded data removed]",
      "text/plain": [
       "<Figure size 432x288 with 1 Axes>"
      ]
     },
     "metadata": {
      "needs_background": "light"
     },
     "output_type": "display_data"
    }
   ],
   "source": [
    "print(\"INTERIOR-POINT\")\n",
    "w = get_solution(c, A_big, r, 'interior-point')\n",
    "\n",
    "print()\n",
    "print(\"Регулязация\")\n",
    "l1_reg(A, mid_b, rad_b, w)\n",
    "x_2i, x_3i = get_dot_for_plot('interior-point')\n",
    "x_1i = [0.1*i for i in range(11)]\n",
    "draw_plot('interior-point', x_1i, x_2i, x_3i)"
   ]
  },
  {
   "cell_type": "code",
   "execution_count": 170,
   "metadata": {},
   "outputs": [
    {
     "data": {
      "image/png": "[encoded data removed]",
      "text/plain": [
       "<Figure size 432x288 with 1 Axes>"
      ]
     },
     "metadata": {
      "needs_background": "light"
     },
     "output_type": "display_data"
    }
   ],
   "source": [
    "\n",
    "    \n",
    "    \n",
    "\n",
    "# line1, = plt.plot(x_1i, x_2s, label='$x_2$ simplex')\n",
    "line2, = plt.plot(x_1i, x_3s, label='$x_3$ simplex')\n",
    "# line3, = plt.plot(x_1i, x_1i, label='$x_2$ interior point')\n",
    "line4, = plt.plot(x_1i, x_3i, label='$x_3$ interior point')\n",
    "plt.legend(handles=[ line2,  line4], loc='upper right')\n",
    "plt.title('All solutions')\n",
    "plt.xlabel('$x_1$')\n",
    "plt.savefig('all.png')\n",
    "plt.show()\n",
    "plt.close()"
   ]
  },
  {
   "cell_type": "code",
   "execution_count": 67,
   "metadata": {},
   "outputs": [
    {
     "name": "stdout",
     "output_type": "stream",
     "text": [
      "Convex combination:\n",
      "X = [ 1.43820157e-01 -4.37316849e-12  1.19204740e+00]\n",
      "omegas = [4.43992469e+00 1.56007531e+00 8.72835882e-11]\n"
     ]
    }
   ],
   "source": [
    "x_s = res_simplex.x[:-n]\n",
    "w_s = res_simplex.x[n:]\n",
    "\n",
    "x_ip = res_ip.x[:-n]\n",
    "w_ip = res_ip.x[n:]\n",
    "\n",
    "alpha = 0.5\n",
    "\n",
    "x_conv = alpha * x_s + (1 - alpha) * x_ip\n",
    "w_conv = alpha * w_s + (1 - alpha) * w_ip\n",
    "\n",
    "print(\"Convex combination:\")\n",
    "print(f\"X = {x_conv}\")\n",
    "print(f\"omegas = {w_conv}\")"
   ]
  },
  {
   "cell_type": "code",
   "execution_count": null,
   "metadata": {},
   "outputs": [],
   "source": []
  }
 ],
 "metadata": {
  "kernelspec": {
   "display_name": "Python 3",
   "language": "python",
   "name": "python3"
  },
  "language_info": {
   "codemirror_mode": {
    "name": "ipython",
    "version": 3
   },
   "file_extension": ".py",
   "mimetype": "text/x-python",
   "name": "python",
   "nbconvert_exporter": "python",
   "pygments_lexer": "ipython3",
   "version": "3.7.6"
  }
 },
 "nbformat": 4,
 "nbformat_minor": 4
}
