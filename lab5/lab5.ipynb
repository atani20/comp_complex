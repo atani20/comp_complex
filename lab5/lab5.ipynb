{
 "cells": [
  {
   "cell_type": "code",
   "execution_count": null,
   "metadata": {},
   "outputs": [],
   "source": [
    "import numpy as np\n",
    "from matplotlib import pyplot as plt\n",
    "%matplotlib inline\n",
    "import os\n",
    "from lab5_func import subdiff2\n",
    "from math import log"
   ]
  },
  {
   "cell_type": "markdown",
   "metadata": {},
   "source": [
    "## Задача 1"
   ]
  },
  {
   "cell_type": "code",
   "execution_count": null,
   "metadata": {},
   "outputs": [],
   "source": [
    "a_slae_inf = np.array([[1, 1], [0, 0.1]])\n",
    "a_slae_sup = np.array([[1, 1], [0, 0.2]])\n",
    "\n",
    "inf_b = np.array([4.1, 0.1])\n",
    "sup_b = np.array([3.9, 0.4])\n",
    "\n",
    "\n",
    "(x_inf, x_sup), x_seq, iter_count, norm_list = subdiff2(a_slae_inf, a_slae_sup, inf_b, sup_b, 0.9)\n",
    "print(f\"Iters: {iter_count}\")\n",
    "print(f\"X inf: {x_inf}\")\n",
    "print(f\"X sup: {x_sup}\")"
   ]
  },
  {
   "cell_type": "code",
   "execution_count": null,
   "metadata": {},
   "outputs": [],
   "source": [
    "make_norm_iter_plot(norm_list, '_task1')"
   ]
  },
  {
   "cell_type": "markdown",
   "metadata": {},
   "source": [
    "## Задача 2"
   ]
  },
  {
   "cell_type": "code",
   "execution_count": null,
   "metadata": {},
   "outputs": [],
   "source": [
    "def remove_rows(matrix):\n",
    "    return matrix[:min(matrix.shape), :min(matrix.shape)]\n",
    "\n",
    "def generate_solution_and_b(mtx):\n",
    "    n = mtx.shape[0]\n",
    "    x = np.random.uniform(low=1, high=5, size=n)\n",
    "    b = np.dot(mtx, x)  # get right part\n",
    "    rads = np.random.uniform(low=0.5, high=2, size=n)  # generate radiuses for b\n",
    "    b_inf = b - rads  # make b interval\n",
    "    b_sup = b + rads\n",
    "    return b_inf, b_sup, x\n",
    "\n",
    "def plot_real_vs_solve(x_real, x_inf, x_sup):\n",
    "    plt.plot(x_real, 'o', label='real solution')\n",
    "    plt.plot(x_inf, 'b-', label='inf')\n",
    "    plt.plot(x_sup, 'r-', label='sup')\n",
    "    plt.legend()\n",
    "    plt.xlabel('Component number')\n",
    "    plt.ylabel('Value')\n",
    "    plt.show()\n",
    "    plt.close()\n",
    "\n",
    "def make_diagonal_dominant(mtx):\n",
    "    D = np.diag(np.abs(mtx))\n",
    "    E = np.sum(np.abs(mtx), axis=1) - D\n",
    "    eps = 0.1 \n",
    "    for i in range(mtx.shape[0]):\n",
    "        if D[i] - E[i] <= eps: \n",
    "            mtx[i,i] += E[i] - D[i] + eps\n",
    "    return mtx\n",
    "    \n",
    "def make_plot_matrix(mtx, filename):\n",
    "    plt.pcolormesh(mtx, cmap='plasma')\n",
    "    plt.xlabel('i')\n",
    "    plt.ylabel('j')\n",
    "    plt.title('Matrix')\n",
    "    plt.colorbar()\n",
    "    plt.savefig(filename)\n",
    "    plt.show()\n",
    "    plt.close()\n",
    "    \n",
    "def make_norm_iter_plot(norm_list, filename):\n",
    "    plt.plot(norm_list)\n",
    "    plt.xlabel(\"iter number\")\n",
    "    plt.ylabel('norm')\n",
    "    plt.savefig('iter_' + filename)\n",
    "    plt.show()\n",
    "    plt.close()\n",
    "    \n",
    "    log_norm_list = [log(elem, 10) for elem in norm_list]\n",
    "    plt.plot(log_norm_list)\n",
    "    plt.xlabel(\"iter number\")\n",
    "    plt.ylabel('log(norm)')\n",
    "    plt.savefig('log_iter_' + filename)\n",
    "    plt.show()\n",
    "    plt.close()\n",
    "    "
   ]
  },
  {
   "cell_type": "code",
   "execution_count": null,
   "metadata": {},
   "outputs": [],
   "source": [
    "def research(filename_in, filename_out):\n",
    "    m = np.loadtxt(filename_in)\n",
    "    matrix = remove_rows(m) + 0.1 * np.eye(min(m.shape))\n",
    "#     make_plot_matrix(matrix, 'matrix' + filename_out)\n",
    "#     make_plot_matrix(m, 'matrix_square' + filename_out)\n",
    "    \n",
    "    sol, b_low, b_high = generate_solution_and_b(matrix)\n",
    "    \n",
    "    \n",
    "    (x_inf, x_sup), x_seq, iter_count, norm_list = subdiff2(matrix, matrix, b_low, b_high, 0.8)\n",
    "    print(iter_count)\n",
    "#     plot_real_vs_solve(sol, x_inf, x_sup)\n",
    "    make_norm_iter_plot(norm_list, filename_out)"
   ]
  },
  {
   "cell_type": "code",
   "execution_count": null,
   "metadata": {},
   "outputs": [],
   "source": [
    "research('./matrix/matrix_n_phi_1.txt', 'matrix_1')"
   ]
  },
  {
   "cell_type": "code",
   "execution_count": null,
   "metadata": {},
   "outputs": [],
   "source": [
    "research('./matrix/matrix_n_phi_6.txt', '_matrix_2')"
   ]
  },
  {
   "cell_type": "code",
   "execution_count": null,
   "metadata": {},
   "outputs": [],
   "source": [
    "filename_in = './matrix/matrix_n_phi_1.txt'\n",
    "m = np.loadtxt(filename_in)\n",
    "matrix = remove_rows(m) + 0.1 * np.eye(min(m.shape))\n",
    "sol, b_low, b_high = generate_solution_and_b(matrix)\n",
    "iteration = []\n",
    "alpha = [0.05 * i for i in range(1, 20)]\n",
    "for i in range(len(alpha)):\n",
    "    (x_inf, x_sup), x_seq, iter_count, norm_list = subdiff2(matrix, matrix, b_low, b_high, alpha[i])\n",
    "    iteration.append(iter_count)"
   ]
  },
  {
   "cell_type": "code",
   "execution_count": null,
   "metadata": {},
   "outputs": [],
   "source": [
    "log_iteration = [log(i) for i in iteration]\n",
    "plt.plot(alpha,  log_iteration)"
   ]
  },
  {
   "cell_type": "code",
   "execution_count": null,
   "metadata": {},
   "outputs": [],
   "source": []
  }
 ],
 "metadata": {
  "kernelspec": {
   "display_name": "Python 3",
   "language": "python",
   "name": "python3"
  },
  "language_info": {
   "codemirror_mode": {
    "name": "ipython",
    "version": 3
   },
   "file_extension": ".py",
   "mimetype": "text/x-python",
   "name": "python",
   "nbconvert_exporter": "python",
   "pygments_lexer": "ipython3",
   "version": "3.7.6"
  }
 },
 "nbformat": 4,
 "nbformat_minor": 4
}
